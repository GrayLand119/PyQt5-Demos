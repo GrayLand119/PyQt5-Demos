{
 "cells": [
  {
   "cell_type": "code",
   "execution_count": 1,
   "metadata": {},
   "outputs": [],
   "source": [
    "import os"
   ]
  },
  {
   "cell_type": "code",
   "execution_count": 2,
   "metadata": {},
   "outputs": [
    {
     "data": {
      "text/plain": [
       "'/Users/languilin/WorkSpace/Private/PyQt5-Demos/PyQt5-Demos/Examples/catelog.txt'"
      ]
     },
     "execution_count": 2,
     "metadata": {},
     "output_type": "execute_result"
    }
   ],
   "source": [
    "curDir = os.getcwd()\n",
    "fp = os.path.join(curDir, 'catelog.txt')\n",
    "fp"
   ]
  },
  {
   "cell_type": "code",
   "execution_count": 3,
   "metadata": {
    "scrolled": true
   },
   "outputs": [
    {
     "data": {
      "text/plain": [
       "['QFileDialog.py',\n",
       " 'QTimeEditDemo.py',\n",
       " 'QLinearGradientDemo.py',\n",
       " 'QTextEdit.py',\n",
       " 'OpenSecondDialog.py',\n",
       " 'QLCDNumber.py',\n",
       " 'icon.png',\n",
       " 'QPrintDialog.py',\n",
       " 'QMenuBar.py',\n",
       " 'VHLayout.py',\n",
       " 'SignalAndSlots.py',\n",
       " 'ff.txt',\n",
       " 'GenCatalog.ipynb',\n",
       " 'QComboBoxDemo.py',\n",
       " 'QCompleterDemoe.py',\n",
       " 'PyQtWebEngine.py',\n",
       " 'QToolBox.py',\n",
       " 'GUI-CreatingWindow#1.py',\n",
       " 'cricket.png',\n",
       " 'QSpinBox.py',\n",
       " 'DrawPloygen.py',\n",
       " 'QTabWidget.py',\n",
       " 'PrintPrivewDialog.py',\n",
       " 'QGroupBox.py',\n",
       " 'QMessageBox.py',\n",
       " 'GridLayout.py',\n",
       " 'PaintApplication.py',\n",
       " 'QWizardDemo.py',\n",
       " 'QCheckBox.py',\n",
       " 'QScrollAreaExample.py',\n",
       " 'QGraphicViewAndQGaphicScene.py',\n",
       " 'DialExampleWithValueChangedSignal.py',\n",
       " 'QProgressbarAndQThread.py',\n",
       " 'CreateFramelessWindow.py',\n",
       " 'tennis.png',\n",
       " 'MakeDragAndDropApplication.py',\n",
       " 'QBrushDemo.py',\n",
       " 'QConicalGradientDemo.py',\n",
       " 'steve_jobs_filled.png',\n",
       " 'QTimeEdit.py',\n",
       " 'QToolBar.py',\n",
       " 'ExportAsPDF.py',\n",
       " 'QColorDialog.py',\n",
       " 'font.png',\n",
       " 'print.png',\n",
       " 'QStackdWidget.py',\n",
       " 'QPlainTextEditDemo.py',\n",
       " '2-GUI-CreatingPushButton.py',\n",
       " 'color.png',\n",
       " 'QFontDialog.py',\n",
       " 'QPropertyAnimation.py',\n",
       " 'QLabel.py',\n",
       " 'icon_char_g.png',\n",
       " 'QFrame.py',\n",
       " 'QListWidgetDemo.py',\n",
       " 'QWhatsThis.py',\n",
       " 'football.png',\n",
       " 'exit.png',\n",
       " '.ipynb_checkpoints',\n",
       " 'QRadialGradientDemo.py',\n",
       " 'QSplitter.py',\n",
       " '3-GUI-Layout.py',\n",
       " 'QLineEdit.py',\n",
       " 'QButtonGroup.py',\n",
       " 'QTableWidgetDemo.py',\n",
       " 'DockAbleWidget.py',\n",
       " 'Paste.png',\n",
       " 'QRadioButton.py',\n",
       " 'Save.png',\n",
       " 'AddImageInPyqtWindow.py',\n",
       " 'copy.png',\n",
       " 'QSlider.py',\n",
       " 'ContextMenu.py']"
      ]
     },
     "execution_count": 3,
     "metadata": {},
     "output_type": "execute_result"
    }
   ],
   "source": [
    "fNames = os.listdir(curDir)\n",
    "fNames"
   ]
  },
  {
   "cell_type": "code",
   "execution_count": 10,
   "metadata": {
    "collapsed": true
   },
   "outputs": [
    {
     "data": {
      "text/plain": [
       "['.ipynb_checkpoints',\n",
       " '2-GUI-CreatingPushButton.py',\n",
       " '3-GUI-Layout.py',\n",
       " 'AddImageInPyqtWindow.py',\n",
       " 'ContextMenu.py',\n",
       " 'CreateFramelessWindow.py',\n",
       " 'DialExampleWithValueChangedSignal.py',\n",
       " 'DockAbleWidget.py',\n",
       " 'DrawPloygen.py',\n",
       " 'ExportAsPDF.py',\n",
       " 'GUI-CreatingWindow#1.py',\n",
       " 'GenCatalog.ipynb',\n",
       " 'GridLayout.py',\n",
       " 'MakeDragAndDropApplication.py',\n",
       " 'OpenSecondDialog.py',\n",
       " 'PaintApplication.py',\n",
       " 'Paste.png',\n",
       " 'PrintPrivewDialog.py',\n",
       " 'PyQtWebEngine.py',\n",
       " 'QBrushDemo.py',\n",
       " 'QButtonGroup.py',\n",
       " 'QCheckBox.py',\n",
       " 'QColorDialog.py',\n",
       " 'QComboBoxDemo.py',\n",
       " 'QCompleterDemoe.py',\n",
       " 'QConicalGradientDemo.py',\n",
       " 'QFileDialog.py',\n",
       " 'QFontDialog.py',\n",
       " 'QFrame.py',\n",
       " 'QGraphicViewAndQGaphicScene.py',\n",
       " 'QGroupBox.py',\n",
       " 'QLCDNumber.py',\n",
       " 'QLabel.py',\n",
       " 'QLineEdit.py',\n",
       " 'QLinearGradientDemo.py',\n",
       " 'QListWidgetDemo.py',\n",
       " 'QMenuBar.py',\n",
       " 'QMessageBox.py',\n",
       " 'QPlainTextEditDemo.py',\n",
       " 'QPrintDialog.py',\n",
       " 'QProgressbarAndQThread.py',\n",
       " 'QPropertyAnimation.py',\n",
       " 'QRadialGradientDemo.py',\n",
       " 'QRadioButton.py',\n",
       " 'QScrollAreaExample.py',\n",
       " 'QSlider.py',\n",
       " 'QSpinBox.py',\n",
       " 'QSplitter.py',\n",
       " 'QStackdWidget.py',\n",
       " 'QTabWidget.py',\n",
       " 'QTableWidgetDemo.py',\n",
       " 'QTextEdit.py',\n",
       " 'QTimeEdit.py',\n",
       " 'QTimeEditDemo.py',\n",
       " 'QToolBar.py',\n",
       " 'QToolBox.py',\n",
       " 'QWhatsThis.py',\n",
       " 'QWizardDemo.py',\n",
       " 'Save.png',\n",
       " 'SignalAndSlots.py',\n",
       " 'VHLayout.py',\n",
       " 'color.png',\n",
       " 'copy.png',\n",
       " 'cricket.png',\n",
       " 'exit.png',\n",
       " 'ff.txt',\n",
       " 'font.png',\n",
       " 'football.png',\n",
       " 'icon.png',\n",
       " 'icon_char_g.png',\n",
       " 'print.png',\n",
       " 'steve_jobs_filled.png',\n",
       " 'tennis.png']"
      ]
     },
     "execution_count": 10,
     "metadata": {},
     "output_type": "execute_result"
    }
   ],
   "source": [
    "fNames.sort()\n",
    "fNames"
   ]
  },
  {
   "cell_type": "code",
   "execution_count": 11,
   "metadata": {},
   "outputs": [],
   "source": [
    "with open(fp, 'wt') as f:\n",
    "    for name in fNames:\n",
    "        if name.endswith('.py'):\n",
    "            f.write('[{0}](Examples/{1})\\n\\n'.format(name[:-3], name))\n",
    "            "
   ]
  },
  {
   "cell_type": "code",
   "execution_count": null,
   "metadata": {},
   "outputs": [],
   "source": []
  }
 ],
 "metadata": {
  "kernelspec": {
   "display_name": "Python 3",
   "language": "python",
   "name": "python3"
  },
  "language_info": {
   "codemirror_mode": {
    "name": "ipython",
    "version": 3
   },
   "file_extension": ".py",
   "mimetype": "text/x-python",
   "name": "python",
   "nbconvert_exporter": "python",
   "pygments_lexer": "ipython3",
   "version": "3.6.8"
  }
 },
 "nbformat": 4,
 "nbformat_minor": 2
}
